{
 "cells": [
  {
   "cell_type": "code",
   "execution_count": 46,
   "metadata": {},
   "outputs": [],
   "source": [
    "def compute_min_refills(distance, tank , n  , stops):\n",
    "\n",
    "    '''\n",
    "    distance = 500\n",
    "    tank = 200\n",
    "    n = 4\n",
    "    stops = [100,200, 300 , 400]\n",
    "\n",
    "    distance = 950\n",
    "    tank = 400\n",
    "    n = 4\n",
    "    stops = [200,375, 550 , 750]\n",
    "\n",
    "    distance = 10\n",
    "    tank = 3\n",
    "    n = 4\n",
    "    stops = [1,2, 5 , 9]\n",
    "    '''\n",
    "\n",
    "    # write your code here\n",
    "    no_of_refills = 0\n",
    "    intial_stop = 0\n",
    "    \n",
    "    stops.insert(0, 0)\n",
    "    stops.insert(len(stops), distance)\n",
    "\n",
    "    for current_stop in stops[1:]:\n",
    "        \n",
    "        if (current_stop - intial_stop < tank):\n",
    "            \n",
    "            last_stop = i\n",
    "            continue\n",
    "            #if(current_stop  == stops[-1]) and (intial_stop + tank > distance):\n",
    "            #    return(no_of_refills)\n",
    "            #continue\n",
    "        else:\n",
    "            if last_stop :\n",
    "                print(current_stop)\n",
    "                no_of_refills += 1\n",
    "                intial_stop = last_stop\n",
    "\n",
    "    if last_stop:\n",
    "        return(no_of_refills)\n",
    "    else:\n",
    "        return(-1)"
   ]
  },
  {
   "cell_type": "code",
   "execution_count": 47,
   "metadata": {},
   "outputs": [
    {
     "name": "stdout",
     "output_type": "stream",
     "text": [
      "1\n",
      "2\n",
      "9\n",
      "10\n",
      "1\n"
     ]
    }
   ],
   "source": [
    "d = 500\n",
    "m = 200\n",
    "n = 4\n",
    "stops = [100,200, 300 , 400]\n",
    "\n",
    "d = 10\n",
    "m = 3\n",
    "n = 4\n",
    "stops = [1,2 , 5,9]\n",
    "\n",
    "print(compute_min_refills(d, m, n, stops))\n"
   ]
  },
  {
   "cell_type": "code",
   "execution_count": null,
   "metadata": {},
   "outputs": [],
   "source": []
  },
  {
   "cell_type": "code",
   "execution_count": 7,
   "metadata": {},
   "outputs": [
    {
     "name": "stdout",
     "output_type": "stream",
     "text": [
      "2\n"
     ]
    }
   ],
   "source": [
    "d = 950\n",
    "m = 400\n",
    "n = 4\n",
    "stops = [200,375, 550 , 750]\n",
    "\n",
    "print(compute_min_refills(d, m, n, stops))\n"
   ]
  },
  {
   "cell_type": "code",
   "execution_count": 8,
   "metadata": {},
   "outputs": [
    {
     "name": "stdout",
     "output_type": "stream",
     "text": [
      "-1\n"
     ]
    }
   ],
   "source": [
    "d = 10\n",
    "m = 3\n",
    "n = 4\n",
    "stops = [1,2, 5 , 9]\n",
    "\n",
    "print(compute_min_refills(d, m, n, stops))\n"
   ]
  },
  {
   "cell_type": "code",
   "execution_count": null,
   "metadata": {},
   "outputs": [],
   "source": []
  }
 ],
 "metadata": {
  "kernelspec": {
   "display_name": "Python 3",
   "language": "python",
   "name": "python3"
  },
  "language_info": {
   "codemirror_mode": {
    "name": "ipython",
    "version": 3
   },
   "file_extension": ".py",
   "mimetype": "text/x-python",
   "name": "python",
   "nbconvert_exporter": "python",
   "pygments_lexer": "ipython3",
   "version": "3.7.4"
  }
 },
 "nbformat": 4,
 "nbformat_minor": 2
}
