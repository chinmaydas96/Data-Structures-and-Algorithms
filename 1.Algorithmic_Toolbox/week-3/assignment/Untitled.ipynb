{
 "cells": [
  {
   "cell_type": "code",
   "execution_count": 3,
   "metadata": {},
   "outputs": [],
   "source": [
    "def compute_min_refills(distance, tank , n  , stops):\n",
    "\n",
    "\n",
    "    # write your code here\n",
    "    no_of_refills = 0\n",
    "    current_stop = 0\n",
    "    \n",
    "    stops.insert(0, 0)\n",
    "    stops.insert(len(stops), distance)\n",
    "\n",
    "    while(current_stop <= n):\n",
    "        last_refill = current_stop\n",
    "\n",
    "        while(current_stop <= n) and (stops[current_stop+1] - stops[last_refill] <= tank):\n",
    "            current_stop += 1\n",
    "        if current_stop == last_refill:\n",
    "            return -1\n",
    "        if current_stop <= n:\n",
    "            no_of_refills += 1\n",
    "    return no_of_refills\n",
    "            "
   ]
  },
  {
   "cell_type": "code",
   "execution_count": 5,
   "metadata": {},
   "outputs": [
    {
     "name": "stdout",
     "output_type": "stream",
     "text": [
      "2\n"
     ]
    }
   ],
   "source": [
    "d = 500\n",
    "m = 200\n",
    "n = 4\n",
    "stops = [100,200, 300 , 400]\n",
    "\n",
    "#d = 10\n",
    "#m = 3\n",
    "#n = 4\n",
    "#stops = [1,2 , 5,9]\n",
    "\n",
    "d = \n",
    "\n",
    "print(compute_min_refills(d, m, n, stops))\n"
   ]
  },
  {
   "cell_type": "code",
   "execution_count": null,
   "metadata": {},
   "outputs": [],
   "source": []
  },
  {
   "cell_type": "code",
   "execution_count": 7,
   "metadata": {},
   "outputs": [
    {
     "name": "stdout",
     "output_type": "stream",
     "text": [
      "2\n"
     ]
    }
   ],
   "source": [
    "d = 950\n",
    "m = 400\n",
    "n = 4\n",
    "stops = [200,375, 550 , 750]\n",
    "\n",
    "print(compute_min_refills(d, m, n, stops))\n"
   ]
  },
  {
   "cell_type": "code",
   "execution_count": 8,
   "metadata": {},
   "outputs": [
    {
     "name": "stdout",
     "output_type": "stream",
     "text": [
      "-1\n"
     ]
    }
   ],
   "source": [
    "d = 10\n",
    "m = 3\n",
    "n = 4\n",
    "stops = [1,2, 5 , 9]\n",
    "\n",
    "print(compute_min_refills(d, m, n, stops))\n"
   ]
  },
  {
   "cell_type": "code",
   "execution_count": null,
   "metadata": {},
   "outputs": [],
   "source": []
  }
 ],
 "metadata": {
  "kernelspec": {
   "display_name": "Python 3",
   "language": "python",
   "name": "python3"
  },
  "language_info": {
   "codemirror_mode": {
    "name": "ipython",
    "version": 3
   },
   "file_extension": ".py",
   "mimetype": "text/x-python",
   "name": "python",
   "nbconvert_exporter": "python",
   "pygments_lexer": "ipython3",
   "version": "3.7.4"
  }
 },
 "nbformat": 4,
 "nbformat_minor": 2
}
